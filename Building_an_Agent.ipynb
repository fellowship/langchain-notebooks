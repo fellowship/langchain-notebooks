{
  "nbformat": 4,
  "nbformat_minor": 0,
  "metadata": {
    "colab": {
      "provenance": [],
      "gpuType": "T4"
    },
    "kernelspec": {
      "name": "python3",
      "display_name": "Python 3"
    },
    "language_info": {
      "name": "python"
    },
    "accelerator": "GPU"
  },
  "cells": [
    {
      "cell_type": "code",
      "source": [
        "# !pip install langchain_huggingface\n",
        "# !pip install langchain-community"
      ],
      "metadata": {
        "id": "6c5LUls0-JGy"
      },
      "execution_count": null,
      "outputs": []
    },
    {
      "cell_type": "markdown",
      "source": [
        "# Vector Stores"
      ],
      "metadata": {
        "id": "PLHfd6MQBWGQ"
      }
    },
    {
      "cell_type": "code",
      "execution_count": 16,
      "metadata": {
        "id": "wmkpC5NL9Lo8"
      },
      "outputs": [],
      "source": [
        "from langchain_core.documents import Document\n",
        "\n",
        "documents = [\n",
        "    Document(\n",
        "        page_content=\"Dogs are great companions\",\n",
        "        metadata={\"source\": \"mammal-pets-doc\"},\n",
        "    ),\n",
        "    Document(\n",
        "        page_content=\"Cats are independent pets that often enjoy their own space.\",\n",
        "        metadata={\"source\": \"mammal-pets-doc\"},\n",
        "    ),\n",
        "    Document(\n",
        "        page_content=\"Goldfish are popular pets for beginners, requiring relatively simple care.\",\n",
        "        metadata={\"source\": \"fish-pets-doc\"},\n",
        "    ),\n",
        "    Document(\n",
        "        page_content=\"Parrots are intelligent birds capable of mimicking human speech.\",\n",
        "        metadata={\"source\": \"bird-pets-doc\"},\n",
        "    ),\n",
        "    Document(\n",
        "        page_content=\"Rabbits are social animals that need plenty of space to hop around.\",\n",
        "        metadata={\"source\": \"mammal-pets-doc\"},\n",
        "    ),\n",
        "]"
      ]
    },
    {
      "cell_type": "code",
      "source": [
        "# Import necessary libraries\n",
        "from langchain.vectorstores import Chroma\n",
        "\n",
        "# embeddings_model_name = \"sentence-transformers/all-MiniLM-L6-v2\"\n",
        "\n",
        "from langchain_huggingface import HuggingFaceEmbeddings\n",
        "\n",
        "model_name = \"sentence-transformers/all-mpnet-base-v2\"\n",
        "model_kwargs = {'device': 'cuda'}\n",
        "encode_kwargs = {'normalize_embeddings': False}\n",
        "hf = HuggingFaceEmbeddings(\n",
        "    model_name=model_name,\n",
        "    model_kwargs=model_kwargs,\n",
        "    encode_kwargs=encode_kwargs\n",
        ")\n"
      ],
      "metadata": {
        "id": "1TTOMWg5-ESx"
      },
      "execution_count": 11,
      "outputs": []
    },
    {
      "cell_type": "code",
      "source": [
        "# # Create the Chroma vector store with Hugging Face embeddings\n",
        "vectorstore = Chroma.from_documents(\n",
        "    documents=documents,\n",
        "    embedding=hf\n",
        ")"
      ],
      "metadata": {
        "id": "yr8_IwuW-EJE"
      },
      "execution_count": 17,
      "outputs": []
    },
    {
      "cell_type": "code",
      "source": [
        "# !pip install langchain_ollama"
      ],
      "metadata": {
        "id": "jiPM_CTC_ANd"
      },
      "execution_count": null,
      "outputs": []
    },
    {
      "cell_type": "code",
      "source": [
        "vectorstore.similarity_search(\"dog\")"
      ],
      "metadata": {
        "colab": {
          "base_uri": "https://localhost:8080/"
        },
        "id": "c3IrdHy6-fyQ",
        "outputId": "8e7ee6f1-2b4c-4744-ecd7-3bb201bdcda1"
      },
      "execution_count": 18,
      "outputs": [
        {
          "output_type": "execute_result",
          "data": {
            "text/plain": [
              "[Document(metadata={'source': 'mammal-pets-doc'}, page_content='Dogs are great companions'),\n",
              " Document(metadata={'source': 'mammal-pets-doc'}, page_content='Dogs are great companions'),\n",
              " Document(metadata={'source': 'fish-pets-doc'}, page_content='Goldfish are popular pets for beginners, requiring relatively simple care.'),\n",
              " Document(metadata={'source': 'mammal-pets-doc'}, page_content='Cats are independent pets that often enjoy their own space.')]"
            ]
          },
          "metadata": {},
          "execution_count": 18
        }
      ]
    },
    {
      "cell_type": "code",
      "source": [
        "vectorstore.similarity_search_with_score(\"cat\")"
      ],
      "metadata": {
        "colab": {
          "base_uri": "https://localhost:8080/"
        },
        "id": "fh532b17ACYP",
        "outputId": "f1a3a6c3-b743-4fec-81b7-9bfe54ff5efa"
      },
      "execution_count": 19,
      "outputs": [
        {
          "output_type": "execute_result",
          "data": {
            "text/plain": [
              "[(Document(metadata={'source': 'mammal-pets-doc'}, page_content='Cats are independent pets that often enjoy their own space.'),\n",
              "  1.0258983373641968),\n",
              " (Document(metadata={'source': 'mammal-pets-doc'}, page_content='Dogs are great companions'),\n",
              "  1.3321926593780518),\n",
              " (Document(metadata={'source': 'mammal-pets-doc'}, page_content='Dogs are great companions'),\n",
              "  1.3321928977966309),\n",
              " (Document(metadata={'source': 'bird-pets-doc'}, page_content='Parrots are intelligent birds capable of mimicking human speech.'),\n",
              "  1.6779040098190308)]"
            ]
          },
          "metadata": {},
          "execution_count": 19
        }
      ]
    },
    {
      "cell_type": "code",
      "source": [
        "embedding = hf.embed_query(\"cat\")\n",
        "\n",
        "vectorstore.similarity_search_by_vector(embedding)"
      ],
      "metadata": {
        "colab": {
          "base_uri": "https://localhost:8080/"
        },
        "id": "W42xvOALAPRb",
        "outputId": "5ffaab2f-8c6a-45b9-bcb6-2e54329d09e1"
      },
      "execution_count": 20,
      "outputs": [
        {
          "output_type": "execute_result",
          "data": {
            "text/plain": [
              "[Document(metadata={'source': 'mammal-pets-doc'}, page_content='Cats are independent pets that often enjoy their own space.'),\n",
              " Document(metadata={'source': 'mammal-pets-doc'}, page_content='Dogs are great companions'),\n",
              " Document(metadata={'source': 'mammal-pets-doc'}, page_content='Dogs are great companions'),\n",
              " Document(metadata={'source': 'bird-pets-doc'}, page_content='Parrots are intelligent birds capable of mimicking human speech.')]"
            ]
          },
          "metadata": {},
          "execution_count": 20
        }
      ]
    },
    {
      "cell_type": "markdown",
      "source": [
        "# Retrievers"
      ],
      "metadata": {
        "id": "WkFfZe9HBaIC"
      }
    },
    {
      "cell_type": "code",
      "source": [
        "from langchain_core.documents import Document\n",
        "from langchain_core.runnables import RunnableLambda\n",
        "\n",
        "retriever = RunnableLambda(vectorstore.similarity_search).bind(k=1)  # select top result\n",
        "\n",
        "retriever.batch([\"cat\", \"shark\"])"
      ],
      "metadata": {
        "colab": {
          "base_uri": "https://localhost:8080/"
        },
        "id": "TqXfoABZAOUn",
        "outputId": "66644168-0db1-4b3d-f0a9-ba04a424a1f9"
      },
      "execution_count": 23,
      "outputs": [
        {
          "output_type": "execute_result",
          "data": {
            "text/plain": [
              "[[Document(metadata={'source': 'mammal-pets-doc'}, page_content='Cats are independent pets that often enjoy their own space.')],\n",
              " [Document(metadata={'source': 'bird-pets-doc'}, page_content='Parrots are intelligent birds capable of mimicking human speech.')]]"
            ]
          },
          "metadata": {},
          "execution_count": 23
        }
      ]
    },
    {
      "cell_type": "code",
      "source": [
        "retriever = vectorstore.as_retriever(\n",
        "    search_type=\"similarity\",\n",
        "    search_kwargs={\"k\": 1},\n",
        ")\n",
        "\n",
        "retriever.batch([\"cat\", \"shark\"])"
      ],
      "metadata": {
        "colab": {
          "base_uri": "https://localhost:8080/"
        },
        "id": "HDA0s45LBiEl",
        "outputId": "d26a990a-3d40-48f9-e3e6-3182362f83b2"
      },
      "execution_count": 24,
      "outputs": [
        {
          "output_type": "execute_result",
          "data": {
            "text/plain": [
              "[[Document(metadata={'source': 'mammal-pets-doc'}, page_content='Cats are independent pets that often enjoy their own space.')],\n",
              " [Document(metadata={'source': 'bird-pets-doc'}, page_content='Parrots are intelligent birds capable of mimicking human speech.')]]"
            ]
          },
          "metadata": {},
          "execution_count": 24
        }
      ]
    },
    {
      "cell_type": "code",
      "source": [
        "# !pip install langchain_groq"
      ],
      "metadata": {
        "id": "XgTkgrSdCAEC"
      },
      "execution_count": null,
      "outputs": []
    },
    {
      "cell_type": "code",
      "source": [
        "import getpass\n",
        "import os\n",
        "\n",
        "os.environ[\"GROQ_API_KEY\"] = getpass.getpass()\n",
        "\n",
        "from langchain_groq import ChatGroq\n",
        "\n",
        "llm = ChatGroq(model=\"llama3-8b-8192\")"
      ],
      "metadata": {
        "colab": {
          "base_uri": "https://localhost:8080/"
        },
        "id": "SjdwhQVnBz64",
        "outputId": "8e71e08b-900e-416e-b955-01a025f6ad1e"
      },
      "execution_count": 26,
      "outputs": [
        {
          "name": "stdout",
          "output_type": "stream",
          "text": [
            "··········\n"
          ]
        }
      ]
    },
    {
      "cell_type": "code",
      "source": [
        "from langchain_core.prompts import ChatPromptTemplate\n",
        "from langchain_core.runnables import RunnablePassthrough\n",
        "\n",
        "message = \"\"\"\n",
        "Answer this question using the provided context only.\n",
        "\n",
        "{question}\n",
        "\n",
        "Context:\n",
        "{context}\n",
        "\"\"\"\n",
        "\n",
        "prompt = ChatPromptTemplate.from_messages([(\"human\", message)])\n",
        "\n",
        "rag_chain = {\"context\": retriever, \"question\": RunnablePassthrough()} | prompt | llm"
      ],
      "metadata": {
        "id": "9v3hFrpxCXEV"
      },
      "execution_count": 27,
      "outputs": []
    },
    {
      "cell_type": "code",
      "source": [
        "response = rag_chain.invoke(\"tell me about cats\")\n",
        "\n",
        "print(response.content)"
      ],
      "metadata": {
        "colab": {
          "base_uri": "https://localhost:8080/"
        },
        "id": "NJdRVunXCgOi",
        "outputId": "4143862f-567f-43b7-87bd-6865950fba3c"
      },
      "execution_count": 28,
      "outputs": [
        {
          "output_type": "stream",
          "name": "stdout",
          "text": [
            "According to the context, cats are independent pets that often enjoy their own space.\n"
          ]
        }
      ]
    },
    {
      "cell_type": "markdown",
      "source": [
        "# Building an Agent"
      ],
      "metadata": {
        "id": "YR7e9Fl5D-5y"
      }
    },
    {
      "cell_type": "markdown",
      "source": [
        "#### Tools\n",
        "Tools are utilities that can be called by a model, and whose outputs are designed to be fed back to a model.\n",
        "#### Toolkits\n",
        "LangChain has a concept of toolkits. This a very thin abstraction that groups tools together that are designed to be used together for specific tasks."
      ],
      "metadata": {
        "id": "9yr1btT4EDrT"
      }
    },
    {
      "cell_type": "markdown",
      "source": [
        "#### Agents\n",
        "By themselves, language models can't take actions - they just output text. Agents are systems that take a high-level task and use an LLM as a reasoning engine to decide what actions to take and execute those actions.\n",
        "\n",
        "LangGraph is an extension of LangChain specifically aimed at creating highly controllable and customizable agents."
      ],
      "metadata": {
        "id": "KHCdl2ZxEqun"
      }
    },
    {
      "cell_type": "markdown",
      "source": [
        "#### A Quick Overview of End to End Agent"
      ],
      "metadata": {
        "id": "cslr3R3IHNPp"
      }
    },
    {
      "cell_type": "code",
      "source": [
        "import os\n",
        "import getpass\n",
        "\n",
        "os.environ[\"TAVILY_API_KEY\"] = getpass.getpass()\n",
        "# os.environ[\"ANTHROPIC_API_KEY\"] = getpass.getpass()\n",
        "# os.environ[\"LANGCHAIN_API_KEY\"] = getpass.getpass()\n",
        "# os.environ[\"GOOGLE_API_KEY\"] = getpass.getpass()\n",
        "# os.environ[\"SERPAPI_API_KEY\"] = getpass.getpass()\n",
        "os.environ[\"GROQ_API_KEY\"] = getpass.getpass()\n"
      ],
      "metadata": {
        "colab": {
          "base_uri": "https://localhost:8080/"
        },
        "id": "Ml5mn8vPJqsm",
        "outputId": "7fbbcac9-8be0-4d14-88fb-7ddf87d4850b"
      },
      "execution_count": 3,
      "outputs": [
        {
          "name": "stdout",
          "output_type": "stream",
          "text": [
            "··········\n",
            "··········\n"
          ]
        }
      ]
    },
    {
      "cell_type": "code",
      "source": [
        "# !pip install tavily-python langgraph-checkpoint-sqlite"
      ],
      "metadata": {
        "id": "e_K8C1JwMgO8"
      },
      "execution_count": null,
      "outputs": []
    },
    {
      "cell_type": "code",
      "source": [
        "# !pip install langchain_anthropic langgraph langchain_community"
      ],
      "metadata": {
        "collapsed": true,
        "id": "lrHHqh8QHhg9"
      },
      "execution_count": null,
      "outputs": []
    },
    {
      "cell_type": "code",
      "source": [
        "# Import relevant functionality\n",
        "from langchain_groq import ChatGroq\n",
        "from langchain_community.tools.tavily_search import TavilySearchResults\n",
        "from langchain_core.messages import HumanMessage\n",
        "from langgraph.checkpoint.memory import MemorySaver\n",
        "from langgraph.prebuilt import create_react_agent\n",
        "\n",
        "# Create the agent\n",
        "memory = MemorySaver()\n",
        "model = ChatGroq(model_name=\"llama3-8b-8192\")\n",
        "search = TavilySearchResults(max_results=2)\n",
        "tools = [search]\n",
        "agent_executor = create_react_agent(model, tools, checkpointer=memory)\n",
        "\n",
        "# Use the agent\n",
        "config = {\"configurable\": {\"thread_id\": \"abc123\"}}\n",
        "for chunk in agent_executor.stream(\n",
        "    {\"messages\": [HumanMessage(content=\"hi im bob! and i live in sf\")]}, config\n",
        "):\n",
        "    print(chunk)\n",
        "    print(\"----\")\n",
        "\n",
        "for chunk in agent_executor.stream(\n",
        "    {\"messages\": [HumanMessage(content=\"whats the weather where I live?\")]}, config\n",
        "):\n",
        "    print(chunk)\n",
        "    print(\"----\")"
      ],
      "metadata": {
        "colab": {
          "base_uri": "https://localhost:8080/"
        },
        "id": "dBHTnhVFECXI",
        "outputId": "2d2fa3be-2e05-46fc-8e33-d5f9a156c6f1"
      },
      "execution_count": 7,
      "outputs": [
        {
          "output_type": "stream",
          "name": "stdout",
          "text": [
            "{'agent': {'messages': [AIMessage(content='', additional_kwargs={'tool_calls': [{'id': 'call_yr2c', 'function': {'arguments': '{\"query\":\"San Francisco\"}', 'name': 'tavily_search_results_json'}, 'type': 'function'}]}, response_metadata={'token_usage': {'completion_tokens': 71, 'prompt_tokens': 948, 'total_tokens': 1019, 'completion_time': 0.059166667, 'prompt_time': 0.111729006, 'queue_time': 0.0071797429999999884, 'total_time': 0.170895673}, 'model_name': 'llama3-8b-8192', 'system_fingerprint': 'fp_6a6771ae9c', 'finish_reason': 'tool_calls', 'logprobs': None}, id='run-6107c5cb-eda0-4252-b084-6f5e5193434d-0', tool_calls=[{'name': 'tavily_search_results_json', 'args': {'query': 'San Francisco'}, 'id': 'call_yr2c', 'type': 'tool_call'}], usage_metadata={'input_tokens': 948, 'output_tokens': 71, 'total_tokens': 1019})]}}\n",
            "----\n",
            "{'tools': {'messages': [ToolMessage(content='[{\"url\": \"https://www.lonelyplanet.com/articles/top-things-to-do-in-san-francisco\", \"content\": \"The 16 best things to do in San Francisco\\\\nFeb 5, 2024 • 9 min read\\\\nFrom riding cable cars to exploring the city\\'s food scene, these are the essential things to do on a visit to San Francisco © lechatnoir / Getty Images\\\\nThe 16 best things to do in San Francisco\\\\nFeb 5, 2024 • 9 min read\\\\nFamously beautiful,\\xa0San Francisco\\xa0is one of the most filmed, photographed (and shared on social networks) cities in the world. Feb 15, 2024 • 16 min read\\\\nSep 9, 2023 • 7 min read\\\\nAug 18, 2023 • 9 min read\\\\nMar 28, 2023 • 7 min read\\\\nJun 14, 2022 • 8 min read\\\\nSep 18, 2021 • 15 min read\\\\nAug 30, 2021 • 8 min read\\\\nMay 27, 2020 • 6 min read\\\\nJan 21, 2020 • 4 min read\\\\nFor Explorers Everywhere\\\\nFollow us\\\\nbecome a member\\\\nJoin the Lonely Planet community of travelers\\\\nTop destinations\\\\nTravel Interests\\\\nShop\\\\nAbout Us\\\\n© 2024 Lonely Planet, a Red Ventures company. Go over the rainbow in the Castro\\\\nSomewhere over the rainbow (crosswalk), you’ll realize you’ve officially arrived in the Castro district – the most out-and-proud neighborhood on the planet for more than 50 years. Planning tip:\\xa0Head to the Marin County end of the bridge as the late-afternoon fog rolls in, and you’ll witness the ultimate magic show: now you see the Golden Gate Bridge, now you don’t. To inspect their work, duck under the bridge into Fort Point, make your way to the roof and look up: you’ll notice that even on the underbelly of the bridge, not a single rivet is allowed to get rusty.\\\\n\"}, {\"url\": \"https://en.wikipedia.org/wiki/San_Francisco\", \"content\": \"The early 2020s featured an exodus of tech companies from Downtown San Francisco, in the wake of the Covid-19 pandemic; although San Francisco has since been widely characterized in the media to have entered an indefinite economic doom loop,[106][107] other sources have refuted this broad-based characterization of the city as a whole, asserting that the issues of concern are restricted primarily to the urban core of San Francisco.[108]\\\\nThe Ferry Station Post Office Building, Armour & Co. Building, Atherton House, and YMCA Hotel are historic buildings among dozens of historical landmarks in the city, according to the National Register of Historic Places listings in San Francisco.[109]\\\\nGeography[edit]\\\\nSan Francisco is located on the West Coast of the United States, at the north end of the San Francisco Peninsula and includes significant stretches of the Pacific Ocean and San Francisco Bay within its boundaries. Over 44% of adults have a bachelor\\'s or higher degree.[172]\\\\nSan Francisco had the highest rate at 7,031 per square mile, or over 344,000 total graduates in the city\\'s 46.7 square miles (121\\xa0km2).[173]\\\\nSan Francisco has the highest estimated percentage of gay and lesbian individuals of any of the 50 largest U.S. cities, at 15%.[174]\\\\nSan Francisco also has the highest percentage of same-sex households of any American county, with the Bay Area having a higher concentration than any other metropolitan area.[175]\\\\nSan Francisco ranks third of American cities in median household income[176] with a 2007 value of $65,519.[159] Median family income is $81,136.[159]\\\\nAn emigration of middle-class families has left the city with a lower proportion of children than any other large American city,[177] with the dog population cited as exceeding the child population of 115,000, in 2018.[178]\\\\n The 2017 Global Financial Centres Index ranked San Francisco as the sixth-most competitive financial center in the world.[214]\\\\nBeginning in the 1990s, San Francisco\\'s economy diversified away from finance and tourism towards the growing fields of high tech, biotechnology, and medical research.[215] Technology jobs accounted for just 1 percent of San Francisco\\'s economy in 1990, growing to 4 percent in 2010 and an estimated 8 percent by the end of 2013.[216] San Francisco became a center of Internet start-up companies during the dot-com bubble of the 1990s and the subsequent social media boom of the late 2000s (decade).[217] Since 2010, San Francisco proper has attracted an increasing share of venture capital investments as compared to nearby Silicon Valley, attracting 423 financings worth US$4.58\\xa0billion in 2013.[218][219][220] The city is home to a number of educational and cultural institutions, such as the University of California, San Francisco, the University of San Francisco, San Francisco State University, the San Francisco Conservatory of Music, the de Young Museum, the San Francisco Museum of Modern Art, the San Francisco Symphony, the San Francisco Ballet, the San Francisco Opera, the SFJAZZ Center, and the California Academy of Sciences. The United Nations Charter creating the United Nations was drafted and signed in San Francisco in 1945 and, in 1951, the Treaty of San Francisco re-established peaceful relations between Japan and the Allied Powers.[89]\\\\nUrban planning projects in the 1950s and 1960s involved widespread destruction and redevelopment of west-side neighborhoods and the construction of new freeways, of which only a series of short segments were built before being halted by citizen-led opposition.[90] The onset of containerization made San Francisco\\'s small piers obsolete, and cargo activity moved to the larger Port of Oakland.[91]\"}]', name='tavily_search_results_json', id='b6ea8436-f244-44ab-a535-b219964b0dc4', tool_call_id='call_yr2c', artifact={'query': 'San Francisco', 'follow_up_questions': None, 'answer': None, 'images': [], 'results': [{'title': 'The 16 best things to do in San Francisco - Lonely Planet', 'url': 'https://www.lonelyplanet.com/articles/top-things-to-do-in-san-francisco', 'content': \"The 16 best things to do in San Francisco\\nFeb 5, 2024 • 9 min read\\nFrom riding cable cars to exploring the city's food scene, these are the essential things to do on a visit to San Francisco © lechatnoir / Getty Images\\nThe 16 best things to do in San Francisco\\nFeb 5, 2024 • 9 min read\\nFamously beautiful,\\xa0San Francisco\\xa0is one of the most filmed, photographed (and shared on social networks) cities in the world. Feb 15, 2024 • 16 min read\\nSep 9, 2023 • 7 min read\\nAug 18, 2023 • 9 min read\\nMar 28, 2023 • 7 min read\\nJun 14, 2022 • 8 min read\\nSep 18, 2021 • 15 min read\\nAug 30, 2021 • 8 min read\\nMay 27, 2020 • 6 min read\\nJan 21, 2020 • 4 min read\\nFor Explorers Everywhere\\nFollow us\\nbecome a member\\nJoin the Lonely Planet community of travelers\\nTop destinations\\nTravel Interests\\nShop\\nAbout Us\\n© 2024 Lonely Planet, a Red Ventures company. Go over the rainbow in the Castro\\nSomewhere over the rainbow (crosswalk), you’ll realize you’ve officially arrived in the Castro district – the most out-and-proud neighborhood on the planet for more than 50 years. Planning tip:\\xa0Head to the Marin County end of the bridge as the late-afternoon fog rolls in, and you’ll witness the ultimate magic show: now you see the Golden Gate Bridge, now you don’t. To inspect their work, duck under the bridge into Fort Point, make your way to the roof and look up: you’ll notice that even on the underbelly of the bridge, not a single rivet is allowed to get rusty.\\n\", 'score': 0.9985335, 'raw_content': None}, {'title': 'San Francisco - Wikipedia', 'url': 'https://en.wikipedia.org/wiki/San_Francisco', 'content': \"The early 2020s featured an exodus of tech companies from Downtown San Francisco, in the wake of the Covid-19 pandemic; although San Francisco has since been widely characterized in the media to have entered an indefinite economic doom loop,[106][107] other sources have refuted this broad-based characterization of the city as a whole, asserting that the issues of concern are restricted primarily to the urban core of San Francisco.[108]\\nThe Ferry Station Post Office Building, Armour & Co. Building, Atherton House, and YMCA Hotel are historic buildings among dozens of historical landmarks in the city, according to the National Register of Historic Places listings in San Francisco.[109]\\nGeography[edit]\\nSan Francisco is located on the West Coast of the United States, at the north end of the San Francisco Peninsula and includes significant stretches of the Pacific Ocean and San Francisco Bay within its boundaries. Over 44% of adults have a bachelor's or higher degree.[172]\\nSan Francisco had the highest rate at 7,031 per square mile, or over 344,000 total graduates in the city's 46.7 square miles (121\\xa0km2).[173]\\nSan Francisco has the highest estimated percentage of gay and lesbian individuals of any of the 50 largest U.S. cities, at 15%.[174]\\nSan Francisco also has the highest percentage of same-sex households of any American county, with the Bay Area having a higher concentration than any other metropolitan area.[175]\\nSan Francisco ranks third of American cities in median household income[176] with a 2007 value of $65,519.[159] Median family income is $81,136.[159]\\nAn emigration of middle-class families has left the city with a lower proportion of children than any other large American city,[177] with the dog population cited as exceeding the child population of 115,000, in 2018.[178]\\n The 2017 Global Financial Centres Index ranked San Francisco as the sixth-most competitive financial center in the world.[214]\\nBeginning in the 1990s, San Francisco's economy diversified away from finance and tourism towards the growing fields of high tech, biotechnology, and medical research.[215] Technology jobs accounted for just 1 percent of San Francisco's economy in 1990, growing to 4 percent in 2010 and an estimated 8 percent by the end of 2013.[216] San Francisco became a center of Internet start-up companies during the dot-com bubble of the 1990s and the subsequent social media boom of the late 2000s (decade).[217] Since 2010, San Francisco proper has attracted an increasing share of venture capital investments as compared to nearby Silicon Valley, attracting 423 financings worth US$4.58\\xa0billion in 2013.[218][219][220] The city is home to a number of educational and cultural institutions, such as the University of California, San Francisco, the University of San Francisco, San Francisco State University, the San Francisco Conservatory of Music, the de Young Museum, the San Francisco Museum of Modern Art, the San Francisco Symphony, the San Francisco Ballet, the San Francisco Opera, the SFJAZZ Center, and the California Academy of Sciences. The United Nations Charter creating the United Nations was drafted and signed in San Francisco in 1945 and, in 1951, the Treaty of San Francisco re-established peaceful relations between Japan and the Allied Powers.[89]\\nUrban planning projects in the 1950s and 1960s involved widespread destruction and redevelopment of west-side neighborhoods and the construction of new freeways, of which only a series of short segments were built before being halted by citizen-led opposition.[90] The onset of containerization made San Francisco's small piers obsolete, and cargo activity moved to the larger Port of Oakland.[91]\", 'score': 0.99850464, 'raw_content': None}], 'response_time': 3.99})]}}\n",
            "----\n",
            "{'agent': {'messages': [AIMessage(content=\"Based on the output from the tool call, I can see that it yielded two articles about San Francisco. The first article from Lonely Planet is a list of 16 things to do in San Francisco, including exploring the city's food scene, visiting the Golden Gate Bridge, and going to the Castro district. The second article from Wikipedia is a more general article about San Francisco, covering its geography, economy, education, and cultural institutions.\\n\\nGiven this information, I'd like to provide a direct response to your question. San Francisco is a vibrant and diverse city with a wide range of activities and attractions to explore. Whether you're interested in food, art, music, or outdoor activities, San Francisco has something for everyone. The city is also home to a number of iconic landmarks, including the Golden Gate Bridge, Alcatraz Island, and the Painted Ladies Victorian houses.\\n\\nI hope this information is helpful in planning your visit to San Francisco!\", additional_kwargs={}, response_metadata={'token_usage': {'completion_tokens': 190, 'prompt_tokens': 2274, 'total_tokens': 2464, 'completion_time': 0.158333333, 'prompt_time': 0.258811282, 'queue_time': 0.0036648970000000003, 'total_time': 0.417144615}, 'model_name': 'llama3-8b-8192', 'system_fingerprint': 'fp_af05557ca2', 'finish_reason': 'stop', 'logprobs': None}, id='run-5c84f469-3595-4c2d-9947-dc08ccd1bb9f-0', usage_metadata={'input_tokens': 2274, 'output_tokens': 190, 'total_tokens': 2464})]}}\n",
            "----\n",
            "{'agent': {'messages': [AIMessage(content=\"Based on the output from the tool call, I can see that the articles didn't mention the weather in San Francisco. However, I can make an educated guess that the weather in San Francisco is typically mild and pleasant, with temperatures ranging from the mid-50s to the mid-70s Fahrenheit (13-24 degrees Celsius) throughout the year. San Francisco is known for its foggy weather, especially in the mornings and evenings, but the city can also experience sunny days throughout the year.\\n\\nIf you're looking for a more accurate and up-to-date weather forecast, I can suggest checking a weather website or app, such as AccuWeather or The Weather Channel, for the latest information.\", additional_kwargs={}, response_metadata={'token_usage': {'completion_tokens': 141, 'prompt_tokens': 2481, 'total_tokens': 2622, 'completion_time': 0.1175, 'prompt_time': 0.114898734, 'queue_time': 0.002104114000000004, 'total_time': 0.232398734}, 'model_name': 'llama3-8b-8192', 'system_fingerprint': 'fp_179b0f92c9', 'finish_reason': 'stop', 'logprobs': None}, id='run-e2e10948-4a37-4a73-b2c4-97f581a9d6da-0', usage_metadata={'input_tokens': 2481, 'output_tokens': 141, 'total_tokens': 2622})]}}\n",
            "----\n"
          ]
        }
      ]
    },
    {
      "cell_type": "markdown",
      "source": [
        "## Step By Step Guide"
      ],
      "metadata": {
        "id": "mKYgjKQmMmcM"
      }
    },
    {
      "cell_type": "markdown",
      "source": [
        "#### Langsmith\n",
        "Many of the applications you build with LangChain will contain multiple steps with multiple invocations of LLM calls. As these applications get more and more complex, it becomes crucial to be able to inspect what exactly is going on inside your chain or agent. The best way to do this is with LangSmith."
      ],
      "metadata": {
        "id": "eSYFdvCUM5Kf"
      }
    },
    {
      "cell_type": "code",
      "source": [
        "# !pip install langchain_community langchain_core langchain_groq"
      ],
      "metadata": {
        "id": "aRDC5peSzygp"
      },
      "execution_count": null,
      "outputs": []
    },
    {
      "cell_type": "code",
      "source": [
        "from langchain_community.tools.tavily_search import TavilySearchResults\n",
        "\n",
        "search = TavilySearchResults(max_results=2)\n",
        "search_results = search.invoke(\"what is the weather in SF\")\n",
        "print(search_results)\n",
        "# If we want, we can create other tools.\n",
        "# Once we have all the tools we want, we can put them in a list that we will reference later.\n",
        "tools = [search]"
      ],
      "metadata": {
        "colab": {
          "base_uri": "https://localhost:8080/"
        },
        "id": "_ZA7Si2ZMrp6",
        "outputId": "b05be47f-e3f2-41fc-fc9a-524ae96d5822"
      },
      "execution_count": 8,
      "outputs": [
        {
          "output_type": "stream",
          "name": "stdout",
          "text": [
            "[{'url': 'https://www.weatherapi.com/', 'content': \"{'location': {'name': 'San Francisco', 'region': 'California', 'country': 'United States of America', 'lat': 37.775, 'lon': -122.4183, 'tz_id': 'America/Los_Angeles', 'localtime_epoch': 1730281744, 'localtime': '2024-10-30 02:49'}, 'current': {'last_updated_epoch': 1730281500, 'last_updated': '2024-10-30 02:45', 'temp_c': 10.0, 'temp_f': 50.0, 'is_day': 0, 'condition': {'text': 'Partly cloudy', 'icon': '//cdn.weatherapi.com/weather/64x64/night/116.png', 'code': 1003}, 'wind_mph': 7.4, 'wind_kph': 11.9, 'wind_degree': 272, 'wind_dir': 'W', 'pressure_mb': 1019.0, 'pressure_in': 30.09, 'precip_mm': 0.0, 'precip_in': 0.0, 'humidity': 89, 'cloud': 25, 'feelslike_c': 8.3, 'feelslike_f': 47.0, 'windchill_c': 9.0, 'windchill_f': 48.2, 'heatindex_c': 10.0, 'heatindex_f': 50.0, 'dewpoint_c': 9.2, 'dewpoint_f': 48.5, 'vis_km': 16.0, 'vis_miles': 9.0, 'uv': 0.0, 'gust_mph': 11.3, 'gust_kph': 18.1}}\"}, {'url': 'https://www.weathertab.com/en/c/e/10/united-states/california/san-francisco/', 'content': 'Avg Low Temps 50 to 60 °F. Explore comprehensive October 2024 weather forecasts for San Francisco, including daily high and low temperatures, precipitation risks, and monthly temperature trends. Featuring detailed day-by-day forecasts, dynamic graphs of daily rain probabilities, and temperature trends to help you plan ahead.'}]\n"
          ]
        }
      ]
    },
    {
      "cell_type": "code",
      "source": [
        "# !pip install google-search-results serpapi"
      ],
      "metadata": {
        "id": "7X-IzNILQxcP"
      },
      "execution_count": null,
      "outputs": []
    },
    {
      "cell_type": "code",
      "source": [
        "# from langchain.utilities import GoogleSearchAPIWrapper\n",
        "\n",
        "# # Make sure to set your GOOGLE_API_KEY and GOOGLE_CSE_ID environment variables.\n",
        "# google_search = GoogleSearchAPIWrapper()\n",
        "\n",
        "from langchain.utilities import SerpAPIWrapper\n",
        "\n",
        "# Make sure to set your SERPAPI_API_KEY environment variable.\n",
        "bing_search = SerpAPIWrapper(search_engine=\"bing\")\n",
        "\n",
        "search_results = bing_search.run(\"what is the weather in Lahore, Pakistan\")\n",
        "print(search_results)\n",
        "# If we want, we can create other tools.\n",
        "# Once we have all the tools we want, we can put them in a list that we will reference later.\n",
        "# tools = [bing_search]"
      ],
      "metadata": {
        "colab": {
          "base_uri": "https://localhost:8080/"
        },
        "id": "y1EnxJr0RJhd",
        "outputId": "802686a8-a2a2-4836-94d0-522140d4c478"
      },
      "execution_count": 57,
      "outputs": [
        {
          "output_type": "stream",
          "name": "stdout",
          "text": [
            "{'type': 'weather_result', 'temperature': '88', 'unit': 'Fahrenheit', 'precipitation': '0%', 'humidity': '48%', 'wind': '0 mph', 'location': 'Lahore, Pakistan', 'date': 'Wednesday 12:00 PM', 'weather': 'Smoke'}\n"
          ]
        }
      ]
    },
    {
      "cell_type": "code",
      "source": [
        "search_results = search.invoke(\"search the instagram account with username 'msalmanai62'\")\n",
        "print(search_results)\n",
        "# If we want, we can create other tools.\n",
        "# Once we have all the tools we want, we can put them in a list that we will reference later.\n",
        "tools = [search]"
      ],
      "metadata": {
        "colab": {
          "base_uri": "https://localhost:8080/"
        },
        "id": "wgjUXfPhVjVO",
        "outputId": "79eeba0a-add3-4af8-f83b-08e5039b7580"
      },
      "execution_count": 48,
      "outputs": [
        {
          "output_type": "stream",
          "name": "stdout",
          "text": [
            "[{'url': 'https://www.instagram.com/msalmanai62/', 'content': '48 Followers, 25 Following, 8 Posts - Muhammad Salman (@msalmanai62) on Instagram: \"Ai Developer\" msalmanai62. Follow. Message. 8 posts. 48 followers. 25 following. Muhammad Salman msalmanai62. Product/service. Ai Developer. 2024. Don\\'tGetSerious ... Log in to see photos and videos from friends and discover other accounts you\\'ll love.'}, {'url': 'https://toolzu.com/search-instagram-profiles/', 'content': 'Free Search Instagram Profiles Search Instagram Profiles Start Instagram account search for free 1. What is an Instagram search user? 7. Can I do an Instagram reverse image search with this engine? 1. What is an Instagram search user? Instagram account search is a specially developed Instagram search engine that enables convenient and fast search of Instagram profiles by a number of input data (users full names and usernames, number of followers and followings, accounts categories, email addresses, phone numbers, and bio words.) 7. Can I do an Instagram reverse image search with this engine? No, unfortunately, you can not do Instagram reverse image search via this service. Click the link: How To Do A Reversed Instagram Image Search? Search Instagram Profiles'}]\n"
          ]
        }
      ]
    },
    {
      "cell_type": "markdown",
      "source": [
        "## Using LLM (Groq here)"
      ],
      "metadata": {
        "id": "3AK1_ve5X4d7"
      }
    },
    {
      "cell_type": "code",
      "source": [
        "from langchain_core.messages import HumanMessage\n",
        "\n",
        "response = model.invoke([HumanMessage(content=\"hi!\")])\n",
        "response.content"
      ],
      "metadata": {
        "colab": {
          "base_uri": "https://localhost:8080/",
          "height": 35
        },
        "id": "h0TrRVZwVjRE",
        "outputId": "daf9d827-5c24-4b53-aa1d-b6b6edd71fea"
      },
      "execution_count": 9,
      "outputs": [
        {
          "output_type": "execute_result",
          "data": {
            "text/plain": [
              "\"Hi! It's nice to meet you. Is there something I can help you with or would you like to chat?\""
            ],
            "application/vnd.google.colaboratory.intrinsic+json": {
              "type": "string"
            }
          },
          "metadata": {},
          "execution_count": 9
        }
      ]
    },
    {
      "cell_type": "code",
      "source": [
        "model_with_tools = model.bind_tools(tools)"
      ],
      "metadata": {
        "id": "mzHT8YLCWZtG"
      },
      "execution_count": 10,
      "outputs": []
    },
    {
      "cell_type": "code",
      "source": [
        "response = model_with_tools.invoke([HumanMessage(content=\"Hi!\")])\n",
        "\n",
        "print(f\"ContentString: {response.content}\")\n",
        "print(f\"ToolCalls: {response.tool_calls}\")"
      ],
      "metadata": {
        "colab": {
          "base_uri": "https://localhost:8080/"
        },
        "id": "qdm4t-FCXMxm",
        "outputId": "08376a27-1532-433a-e390-03f5a25fa618"
      },
      "execution_count": 11,
      "outputs": [
        {
          "output_type": "stream",
          "name": "stdout",
          "text": [
            "ContentString: \n",
            "ToolCalls: [{'name': 'tavily_search_results_json', 'args': {'query': 'Hi!'}, 'id': 'call_zhtz', 'type': 'tool_call'}]\n"
          ]
        }
      ]
    },
    {
      "cell_type": "code",
      "source": [
        "response = model_with_tools.invoke([HumanMessage(content=\"What's the weather in Lahore, Pakistan?\")])\n",
        "\n",
        "print(f\"ContentString: {response.content}\")\n",
        "print(f\"ToolCalls: {response.tool_calls}\")"
      ],
      "metadata": {
        "colab": {
          "base_uri": "https://localhost:8080/"
        },
        "id": "KWXJi7HMWZqc",
        "outputId": "cf262b55-a33e-46dc-ae2d-43a20bb5f36f"
      },
      "execution_count": 12,
      "outputs": [
        {
          "output_type": "stream",
          "name": "stdout",
          "text": [
            "ContentString: \n",
            "ToolCalls: [{'name': 'tavily_search_results_json', 'args': {'query': 'current weather in Lahore, Pakistan'}, 'id': 'call_v1eh', 'type': 'tool_call'}]\n"
          ]
        }
      ]
    },
    {
      "cell_type": "code",
      "source": [
        "# !pip install langchain-groq --upgrade"
      ],
      "metadata": {
        "id": "hvhLPIYpvvRW"
      },
      "execution_count": null,
      "outputs": []
    },
    {
      "cell_type": "markdown",
      "source": [
        "## Creating agent"
      ],
      "metadata": {
        "id": "WdrhhbYHX9_N"
      }
    },
    {
      "cell_type": "code",
      "source": [
        "# from langchain import hub\n",
        "# prompt = hub.pull(\"ih/ih-react-agent-executor\")\n",
        "# prompt.pretty_print()"
      ],
      "metadata": {
        "id": "NXYll_xkwp7j"
      },
      "execution_count": null,
      "outputs": []
    },
    {
      "cell_type": "code",
      "source": [
        "from langgraph.prebuilt import create_react_agent\n",
        "\n",
        "agent_executor = create_react_agent(model, tools=tools,\n",
        "                                    state_modifier=\"Answer the following question.\"\n",
        "                                    )\n",
        "\n",
        "response = agent_executor.invoke(\n",
        "    {\"messages\": [HumanMessage(content=\"what is the weather in SF?\")]}\n",
        ")\n",
        "response[\"messages\"]"
      ],
      "metadata": {
        "colab": {
          "base_uri": "https://localhost:8080/"
        },
        "collapsed": true,
        "id": "V8509K09YA9x",
        "outputId": "38ad4da8-eb4c-4e18-bf5d-bae42a431d25"
      },
      "execution_count": 16,
      "outputs": [
        {
          "output_type": "execute_result",
          "data": {
            "text/plain": [
              "[HumanMessage(content='what is the weather in SF?', additional_kwargs={}, response_metadata={}, id='b255749a-104f-4bb6-85aa-cb2565a975a5'),\n",
              " AIMessage(content='', additional_kwargs={'tool_calls': [{'id': 'call_qs97', 'function': {'arguments': '{\"query\":\"weather in San Francisco\"}', 'name': 'tavily_search_results_json'}, 'type': 'function'}]}, response_metadata={'token_usage': {'completion_tokens': 73, 'prompt_tokens': 1929, 'total_tokens': 2002, 'completion_time': 0.060833333, 'prompt_time': 0.088701049, 'queue_time': -0.17881243800000002, 'total_time': 0.149534382}, 'model_name': 'llama3-8b-8192', 'system_fingerprint': 'fp_179b0f92c9', 'finish_reason': 'tool_calls', 'logprobs': None}, id='run-7802b326-ff3a-4567-b5f2-ea691e0d5179-0', tool_calls=[{'name': 'tavily_search_results_json', 'args': {'query': 'weather in San Francisco'}, 'id': 'call_qs97', 'type': 'tool_call'}], usage_metadata={'input_tokens': 1929, 'output_tokens': 73, 'total_tokens': 2002}),\n",
              " ToolMessage(content='[{\"url\": \"https://www.weatherapi.com/\", \"content\": \"{\\'location\\': {\\'name\\': \\'San Francisco\\', \\'region\\': \\'California\\', \\'country\\': \\'United States of America\\', \\'lat\\': 37.775, \\'lon\\': -122.4183, \\'tz_id\\': \\'America/Los_Angeles\\', \\'localtime_epoch\\': 1730281744, \\'localtime\\': \\'2024-10-30 02:49\\'}, \\'current\\': {\\'last_updated_epoch\\': 1730281500, \\'last_updated\\': \\'2024-10-30 02:45\\', \\'temp_c\\': 10.0, \\'temp_f\\': 50.0, \\'is_day\\': 0, \\'condition\\': {\\'text\\': \\'Partly cloudy\\', \\'icon\\': \\'//cdn.weatherapi.com/weather/64x64/night/116.png\\', \\'code\\': 1003}, \\'wind_mph\\': 7.4, \\'wind_kph\\': 11.9, \\'wind_degree\\': 272, \\'wind_dir\\': \\'W\\', \\'pressure_mb\\': 1019.0, \\'pressure_in\\': 30.09, \\'precip_mm\\': 0.0, \\'precip_in\\': 0.0, \\'humidity\\': 89, \\'cloud\\': 25, \\'feelslike_c\\': 8.3, \\'feelslike_f\\': 47.0, \\'windchill_c\\': 9.0, \\'windchill_f\\': 48.2, \\'heatindex_c\\': 10.0, \\'heatindex_f\\': 50.0, \\'dewpoint_c\\': 9.2, \\'dewpoint_f\\': 48.5, \\'vis_km\\': 16.0, \\'vis_miles\\': 9.0, \\'uv\\': 0.0, \\'gust_mph\\': 11.3, \\'gust_kph\\': 18.1}}\"}, {\"url\": \"https://weatherspark.com/h/y/557/2024/Historical-Weather-during-2024-in-San-Francisco-California-United-States\", \"content\": \"San Francisco Temperature History 2024\\\\nHourly Temperature in 2024 in San Francisco\\\\nCompare San Francisco to another city:\\\\nCloud Cover in 2024 in San Francisco\\\\nDaily Precipitation in 2024 in San Francisco\\\\nObserved Weather in 2024 in San Francisco\\\\nHours of Daylight and Twilight in 2024 in San Francisco\\\\nSunrise & Sunset with Twilight and Daylight Saving Time in 2024 in San Francisco\\\\nSolar Elevation and Azimuth in 2024 in San Francisco\\\\nMoon Rise, Set & Phases in 2024 in San Francisco\\\\nHumidity Comfort Levels in 2024 in San Francisco\\\\nWind Speed in 2024 in San Francisco\\\\nHourly Wind Speed in 2024 in San Francisco\\\\nHourly Wind Direction in 2024 in San Francisco\\\\nAtmospheric Pressure in 2024 in San Francisco\\\\nData Sources\\\\n See all nearby weather stations\\\\nLatest Report — 3:56 PM\\\\nWed, Jan 24, 2024\\xa0\\xa0\\xa0\\xa013 min ago\\xa0\\xa0\\xa0\\xa0UTC 23:56\\\\nCall Sign KSFO\\\\nTemp.\\\\n60.1°F\\\\nPrecipitation\\\\nNo Report\\\\nWind\\\\n6.9 mph\\\\nCloud Cover\\\\nMostly Cloudy\\\\n1,800 ft\\\\nRaw: KSFO 242356Z 18006G19KT 10SM FEW015 BKN018 BKN039 16/12 A3004 RMK AO2 SLP171 T01560122 10156 20122 55001\\\\n While having the tremendous advantages of temporal and spatial completeness, these reconstructions: (1) are based on computer models that may have model-based errors, (2) are coarsely sampled on a 50 km grid and are therefore unable to reconstruct the local variations of many microclimates, and (3) have particular difficulty with the weather in some coastal areas, especially small islands.\\\\n We further caution that our travel scores are only as good as the data that underpin them, that weather conditions at any given location and time are unpredictable and variable, and that the definition of the scores reflects a particular set of preferences that may not agree with those of any particular reader.\\\\n 2024 Weather History in San Francisco California, United States\\\\nThe data for this report comes from the San Francisco International Airport.\"}]', name='tavily_search_results_json', id='2bb7dede-928b-445d-aedf-3e733f1acb79', tool_call_id='call_qs97', artifact={'query': 'weather in San Francisco', 'follow_up_questions': None, 'answer': None, 'images': [], 'results': [{'title': 'Weather in San Francisco', 'url': 'https://www.weatherapi.com/', 'content': \"{'location': {'name': 'San Francisco', 'region': 'California', 'country': 'United States of America', 'lat': 37.775, 'lon': -122.4183, 'tz_id': 'America/Los_Angeles', 'localtime_epoch': 1730281744, 'localtime': '2024-10-30 02:49'}, 'current': {'last_updated_epoch': 1730281500, 'last_updated': '2024-10-30 02:45', 'temp_c': 10.0, 'temp_f': 50.0, 'is_day': 0, 'condition': {'text': 'Partly cloudy', 'icon': '//cdn.weatherapi.com/weather/64x64/night/116.png', 'code': 1003}, 'wind_mph': 7.4, 'wind_kph': 11.9, 'wind_degree': 272, 'wind_dir': 'W', 'pressure_mb': 1019.0, 'pressure_in': 30.09, 'precip_mm': 0.0, 'precip_in': 0.0, 'humidity': 89, 'cloud': 25, 'feelslike_c': 8.3, 'feelslike_f': 47.0, 'windchill_c': 9.0, 'windchill_f': 48.2, 'heatindex_c': 10.0, 'heatindex_f': 50.0, 'dewpoint_c': 9.2, 'dewpoint_f': 48.5, 'vis_km': 16.0, 'vis_miles': 9.0, 'uv': 0.0, 'gust_mph': 11.3, 'gust_kph': 18.1}}\", 'score': 0.9727223, 'raw_content': None}, {'title': '2024 Weather History in San Francisco California, United States', 'url': 'https://weatherspark.com/h/y/557/2024/Historical-Weather-during-2024-in-San-Francisco-California-United-States', 'content': 'San Francisco Temperature History 2024\\nHourly Temperature in 2024 in San Francisco\\nCompare San Francisco to another city:\\nCloud Cover in 2024 in San Francisco\\nDaily Precipitation in 2024 in San Francisco\\nObserved Weather in 2024 in San Francisco\\nHours of Daylight and Twilight in 2024 in San Francisco\\nSunrise & Sunset with Twilight and Daylight Saving Time in 2024 in San Francisco\\nSolar Elevation and Azimuth in 2024 in San Francisco\\nMoon Rise, Set & Phases in 2024 in San Francisco\\nHumidity Comfort Levels in 2024 in San Francisco\\nWind Speed in 2024 in San Francisco\\nHourly Wind Speed in 2024 in San Francisco\\nHourly Wind Direction in 2024 in San Francisco\\nAtmospheric Pressure in 2024 in San Francisco\\nData Sources\\n See all nearby weather stations\\nLatest Report — 3:56 PM\\nWed, Jan 24, 2024\\xa0\\xa0\\xa0\\xa013 min ago\\xa0\\xa0\\xa0\\xa0UTC 23:56\\nCall Sign KSFO\\nTemp.\\n60.1°F\\nPrecipitation\\nNo Report\\nWind\\n6.9 mph\\nCloud Cover\\nMostly Cloudy\\n1,800 ft\\nRaw: KSFO 242356Z 18006G19KT 10SM FEW015 BKN018 BKN039 16/12 A3004 RMK AO2 SLP171 T01560122 10156 20122 55001\\n While having the tremendous advantages of temporal and spatial completeness, these reconstructions: (1) are based on computer models that may have model-based errors, (2) are coarsely sampled on a 50 km grid and are therefore unable to reconstruct the local variations of many microclimates, and (3) have particular difficulty with the weather in some coastal areas, especially small islands.\\n We further caution that our travel scores are only as good as the data that underpin them, that weather conditions at any given location and time are unpredictable and variable, and that the definition of the scores reflects a particular set of preferences that may not agree with those of any particular reader.\\n 2024 Weather History in San Francisco California, United States\\nThe data for this report comes from the San Francisco International Airport.', 'score': 0.9382373, 'raw_content': None}], 'response_time': 5.01}),\n",
              " AIMessage(content='Partly cloudy with a temperature of 50°F (10°C) and a wind speed of 11.9 km/h (7.4 mph) from the west.', additional_kwargs={}, response_metadata={'token_usage': {'completion_tokens': 36, 'prompt_tokens': 1952, 'total_tokens': 1988, 'completion_time': 0.03, 'prompt_time': 0.225756251, 'queue_time': 0.0011772379999999971, 'total_time': 0.255756251}, 'model_name': 'llama3-8b-8192', 'system_fingerprint': 'fp_a97cfe35ae', 'finish_reason': 'stop', 'logprobs': None}, id='run-345a7f11-f8b1-4315-83c8-42ac01866f29-0', usage_metadata={'input_tokens': 1952, 'output_tokens': 36, 'total_tokens': 1988})]"
            ]
          },
          "metadata": {},
          "execution_count": 16
        }
      ]
    },
    {
      "cell_type": "markdown",
      "source": [
        "#### Streaming the output"
      ],
      "metadata": {
        "id": "1DYTSyf6yAys"
      }
    },
    {
      "cell_type": "code",
      "source": [
        "for chunk in agent_executor.stream(\n",
        "    {\"messages\": [HumanMessage(content=\"what is the weather in Lahore, Pakistan?\")]}\n",
        "):\n",
        "    print(chunk)\n",
        "    print(\"----\")"
      ],
      "metadata": {
        "colab": {
          "base_uri": "https://localhost:8080/"
        },
        "id": "-ZgMwT8rwUJ1",
        "outputId": "1a60003d-fb40-480a-fdaf-bd36a5ea8ef9"
      },
      "execution_count": 17,
      "outputs": [
        {
          "output_type": "stream",
          "name": "stdout",
          "text": [
            "{'agent': {'messages': [AIMessage(content='', additional_kwargs={'tool_calls': [{'id': 'call_sxsk', 'function': {'arguments': '{\"query\":\"weather in Lahore, Pakistan\"}', 'name': 'tavily_search_results_json'}, 'type': 'function'}]}, response_metadata={'token_usage': {'completion_tokens': 81, 'prompt_tokens': 956, 'total_tokens': 1037, 'completion_time': 0.0675, 'prompt_time': 0.143460976, 'queue_time': 0.12792292200000002, 'total_time': 0.210960976}, 'model_name': 'llama3-8b-8192', 'system_fingerprint': 'fp_6a6771ae9c', 'finish_reason': 'tool_calls', 'logprobs': None}, id='run-930d4495-820a-4586-8591-14347d3de02a-0', tool_calls=[{'name': 'tavily_search_results_json', 'args': {'query': 'weather in Lahore, Pakistan'}, 'id': 'call_sxsk', 'type': 'tool_call'}], usage_metadata={'input_tokens': 956, 'output_tokens': 81, 'total_tokens': 1037})]}}\n",
            "----\n",
            "{'tools': {'messages': [ToolMessage(content='[{\"url\": \"https://www.weatherapi.com/\", \"content\": \"{\\'location\\': {\\'name\\': \\'Lahore\\', \\'region\\': \\'Punjab\\', \\'country\\': \\'Pakistan\\', \\'lat\\': 31.5497, \\'lon\\': 74.3436, \\'tz_id\\': \\'Asia/Karachi\\', \\'localtime_epoch\\': 1730281877, \\'localtime\\': \\'2024-10-30 14:51\\'}, \\'current\\': {\\'last_updated_epoch\\': 1730281500, \\'last_updated\\': \\'2024-10-30 14:45\\', \\'temp_c\\': 36.4, \\'temp_f\\': 97.6, \\'is_day\\': 1, \\'condition\\': {\\'text\\': \\'Sunny\\', \\'icon\\': \\'//cdn.weatherapi.com/weather/64x64/day/113.png\\', \\'code\\': 1000}, \\'wind_mph\\': 2.2, \\'wind_kph\\': 3.6, \\'wind_degree\\': 309, \\'wind_dir\\': \\'NW\\', \\'pressure_mb\\': 1007.0, \\'pressure_in\\': 29.75, \\'precip_mm\\': 0.0, \\'precip_in\\': 0.0, \\'humidity\\': 19, \\'cloud\\': 11, \\'feelslike_c\\': 35.0, \\'feelslike_f\\': 94.9, \\'windchill_c\\': 36.4, \\'windchill_f\\': 97.6, \\'heatindex_c\\': 35.0, \\'heatindex_f\\': 94.9, \\'dewpoint_c\\': 9.1, \\'dewpoint_f\\': 48.5, \\'vis_km\\': 10.0, \\'vis_miles\\': 6.0, \\'uv\\': 3.0, \\'gust_mph\\': 6.7, \\'gust_kph\\': 10.8}}\"}, {\"url\": \"https://www.qweather.com/en/weather30d/lahore-57233.html\", \"content\": \"Lahore 30 days forecast, weather trend in the next 30 days, also 30 days precipitation forecast and Lahore travel weather forecast ... Pakistan 2024-10-28 Monday 31.55N, 74.34E. Lahore. Weather; 30 Days Forecast; Satellite+Radar; Map; ×. Lahore Punjab - Pakistan. 2024-10-28. In the next 30 days, there will be 1 day of rain, 4 days\\' Temp above\"}]', name='tavily_search_results_json', id='e50d98d8-0d3c-4c86-84aa-800b848d5396', tool_call_id='call_sxsk', artifact={'query': 'weather in Lahore, Pakistan', 'follow_up_questions': None, 'answer': None, 'images': [], 'results': [{'title': 'Weather in Lahore, Pakistan', 'url': 'https://www.weatherapi.com/', 'content': \"{'location': {'name': 'Lahore', 'region': 'Punjab', 'country': 'Pakistan', 'lat': 31.5497, 'lon': 74.3436, 'tz_id': 'Asia/Karachi', 'localtime_epoch': 1730281877, 'localtime': '2024-10-30 14:51'}, 'current': {'last_updated_epoch': 1730281500, 'last_updated': '2024-10-30 14:45', 'temp_c': 36.4, 'temp_f': 97.6, 'is_day': 1, 'condition': {'text': 'Sunny', 'icon': '//cdn.weatherapi.com/weather/64x64/day/113.png', 'code': 1000}, 'wind_mph': 2.2, 'wind_kph': 3.6, 'wind_degree': 309, 'wind_dir': 'NW', 'pressure_mb': 1007.0, 'pressure_in': 29.75, 'precip_mm': 0.0, 'precip_in': 0.0, 'humidity': 19, 'cloud': 11, 'feelslike_c': 35.0, 'feelslike_f': 94.9, 'windchill_c': 36.4, 'windchill_f': 97.6, 'heatindex_c': 35.0, 'heatindex_f': 94.9, 'dewpoint_c': 9.1, 'dewpoint_f': 48.5, 'vis_km': 10.0, 'vis_miles': 6.0, 'uv': 3.0, 'gust_mph': 6.7, 'gust_kph': 10.8}}\", 'score': 0.9982288, 'raw_content': None}, {'title': 'Lahore 30 days weather forecast, Lahore weather forecast | QWeather', 'url': 'https://www.qweather.com/en/weather30d/lahore-57233.html', 'content': \"Lahore 30 days forecast, weather trend in the next 30 days, also 30 days precipitation forecast and Lahore travel weather forecast ... Pakistan 2024-10-28 Monday 31.55N, 74.34E. Lahore. Weather; 30 Days Forecast; Satellite+Radar; Map; ×. Lahore Punjab - Pakistan. 2024-10-28. In the next 30 days, there will be 1 day of rain, 4 days' Temp above\", 'score': 0.9961606, 'raw_content': None}], 'response_time': 4.73})]}}\n",
            "----\n",
            "{'agent': {'messages': [AIMessage(content='', additional_kwargs={'tool_calls': [{'id': 'call_adj6', 'function': {'arguments': '{\"query\":\"weather in Lahore, Pakistan\"}', 'name': 'tavily_search_results_json'}, 'type': 'function'}]}, response_metadata={'token_usage': {'completion_tokens': 41, 'prompt_tokens': 1563, 'total_tokens': 1604, 'completion_time': 0.034166667, 'prompt_time': 0.265569307, 'queue_time': 0.002401147000000048, 'total_time': 0.299735974}, 'model_name': 'llama3-8b-8192', 'system_fingerprint': 'fp_af05557ca2', 'finish_reason': 'tool_calls', 'logprobs': None}, id='run-ee5e463e-846f-4cd3-9155-e9331cdd75f5-0', tool_calls=[{'name': 'tavily_search_results_json', 'args': {'query': 'weather in Lahore, Pakistan'}, 'id': 'call_adj6', 'type': 'tool_call'}], usage_metadata={'input_tokens': 1563, 'output_tokens': 41, 'total_tokens': 1604})]}}\n",
            "----\n",
            "{'tools': {'messages': [ToolMessage(content='[{\"url\": \"https://www.weatherapi.com/\", \"content\": \"{\\'location\\': {\\'name\\': \\'Lahore\\', \\'region\\': \\'Punjab\\', \\'country\\': \\'Pakistan\\', \\'lat\\': 31.5497, \\'lon\\': 74.3436, \\'tz_id\\': \\'Asia/Karachi\\', \\'localtime_epoch\\': 1730281877, \\'localtime\\': \\'2024-10-30 14:51\\'}, \\'current\\': {\\'last_updated_epoch\\': 1730281500, \\'last_updated\\': \\'2024-10-30 14:45\\', \\'temp_c\\': 36.4, \\'temp_f\\': 97.6, \\'is_day\\': 1, \\'condition\\': {\\'text\\': \\'Sunny\\', \\'icon\\': \\'//cdn.weatherapi.com/weather/64x64/day/113.png\\', \\'code\\': 1000}, \\'wind_mph\\': 2.2, \\'wind_kph\\': 3.6, \\'wind_degree\\': 309, \\'wind_dir\\': \\'NW\\', \\'pressure_mb\\': 1007.0, \\'pressure_in\\': 29.75, \\'precip_mm\\': 0.0, \\'precip_in\\': 0.0, \\'humidity\\': 19, \\'cloud\\': 11, \\'feelslike_c\\': 35.0, \\'feelslike_f\\': 94.9, \\'windchill_c\\': 36.4, \\'windchill_f\\': 97.6, \\'heatindex_c\\': 35.0, \\'heatindex_f\\': 94.9, \\'dewpoint_c\\': 9.1, \\'dewpoint_f\\': 48.5, \\'vis_km\\': 10.0, \\'vis_miles\\': 6.0, \\'uv\\': 3.0, \\'gust_mph\\': 6.7, \\'gust_kph\\': 10.8}}\"}, {\"url\": \"https://www.easeweather.com/asia/pakistan/punjab/lahore-district/lahore/october\", \"content\": \"So far, October 2024 in Lahore is slightly warmer than the historical average by 1.2 °C. Expect cooler weather in the next days in Lahore with the forecast suggesting a temperature of 35.2 °C, lower than the historical average. In general, the average temperature in Lahore at the beginning of October is 37.7 °C.\"}]', name='tavily_search_results_json', id='d0105d6d-2023-45ea-8c1e-1c861bcaf271', tool_call_id='call_adj6', artifact={'query': 'weather in Lahore, Pakistan', 'follow_up_questions': None, 'answer': None, 'images': [], 'results': [{'title': 'Weather in Lahore, Pakistan', 'url': 'https://www.weatherapi.com/', 'content': \"{'location': {'name': 'Lahore', 'region': 'Punjab', 'country': 'Pakistan', 'lat': 31.5497, 'lon': 74.3436, 'tz_id': 'Asia/Karachi', 'localtime_epoch': 1730281877, 'localtime': '2024-10-30 14:51'}, 'current': {'last_updated_epoch': 1730281500, 'last_updated': '2024-10-30 14:45', 'temp_c': 36.4, 'temp_f': 97.6, 'is_day': 1, 'condition': {'text': 'Sunny', 'icon': '//cdn.weatherapi.com/weather/64x64/day/113.png', 'code': 1000}, 'wind_mph': 2.2, 'wind_kph': 3.6, 'wind_degree': 309, 'wind_dir': 'NW', 'pressure_mb': 1007.0, 'pressure_in': 29.75, 'precip_mm': 0.0, 'precip_in': 0.0, 'humidity': 19, 'cloud': 11, 'feelslike_c': 35.0, 'feelslike_f': 94.9, 'windchill_c': 36.4, 'windchill_f': 97.6, 'heatindex_c': 35.0, 'heatindex_f': 94.9, 'dewpoint_c': 9.1, 'dewpoint_f': 48.5, 'vis_km': 10.0, 'vis_miles': 6.0, 'uv': 3.0, 'gust_mph': 6.7, 'gust_kph': 10.8}}\", 'score': 0.9987559, 'raw_content': None}, {'title': 'Weather in Lahore in October 2024 - Detailed Forecast', 'url': 'https://www.easeweather.com/asia/pakistan/punjab/lahore-district/lahore/october', 'content': 'So far, October 2024 in Lahore is slightly warmer than the historical average by 1.2 °C. Expect cooler weather in the next days in Lahore with the forecast suggesting a temperature of 35.2 °C, lower than the historical average. In general, the average temperature in Lahore at the beginning of October is 37.7 °C.', 'score': 0.99647564, 'raw_content': None}], 'response_time': 4.5})]}}\n",
            "----\n",
            "{'agent': {'messages': [AIMessage(content='The weather in Lahore, Pakistan is currently sunny with a temperature of 36.4°C (97.6°F) and a humidity of 19%. The wind is blowing at a speed of 3.6 km/h (2.2 mph) from the northwest.', additional_kwargs={}, response_metadata={'token_usage': {'completion_tokens': 56, 'prompt_tokens': 2146, 'total_tokens': 2202, 'completion_time': 0.050615913, 'prompt_time': 0.11406475, 'queue_time': 0.0023687389999999947, 'total_time': 0.164680663}, 'model_name': 'llama3-8b-8192', 'system_fingerprint': 'fp_179b0f92c9', 'finish_reason': 'stop', 'logprobs': None}, id='run-755d2571-8e1a-48a8-8545-39b23c743d87-0', usage_metadata={'input_tokens': 2146, 'output_tokens': 56, 'total_tokens': 2202})]}}\n",
            "----\n"
          ]
        }
      ]
    },
    {
      "cell_type": "markdown",
      "source": [
        "#### Streaming tokens"
      ],
      "metadata": {
        "id": "STfPagZRyOkA"
      }
    },
    {
      "cell_type": "code",
      "source": [
        "async for event in agent_executor.astream_events(\n",
        "    {\"messages\": [HumanMessage(content=\"what is the weather in Lahore, Pakistan?\")]}, version=\"v1\"\n",
        "):\n",
        "    kind = event[\"event\"]\n",
        "    if kind == \"on_chain_start\":\n",
        "        if (\n",
        "            event[\"name\"] == \"Agent\"\n",
        "        ):  # Was assigned when creating the agent with `.with_config({\"run_name\": \"Agent\"})`\n",
        "            print(\n",
        "                f\"Starting agent: {event['name']} with input: {event['data'].get('input')}\"\n",
        "            )\n",
        "    elif kind == \"on_chain_end\":\n",
        "        if (\n",
        "            event[\"name\"] == \"Agent\"\n",
        "        ):  # Was assigned when creating the agent with `.with_config({\"run_name\": \"Agent\"})`\n",
        "            print()\n",
        "            print(\"--\")\n",
        "            print(\n",
        "                f\"Done agent: {event['name']} with output: {event['data'].get('output')['output']}\"\n",
        "            )\n",
        "    if kind == \"on_chat_model_stream\":\n",
        "        content = event[\"data\"][\"chunk\"].content\n",
        "        if content:\n",
        "            # Empty content in the context of OpenAI means\n",
        "            # that the model is asking for a tool to be invoked.\n",
        "            # So we only print non-empty content\n",
        "            print(content, end=\"|\")\n",
        "    elif kind == \"on_tool_start\":\n",
        "        print(\"--\")\n",
        "        print(\n",
        "            f\"Starting tool: {event['name']} with inputs: {event['data'].get('input')}\"\n",
        "        )\n",
        "    elif kind == \"on_tool_end\":\n",
        "        print(f\"Done tool: {event['name']}\")\n",
        "        print(f\"Tool output was: {event['data'].get('output')}\")\n",
        "        print(\"--\")"
      ],
      "metadata": {
        "colab": {
          "base_uri": "https://localhost:8080/"
        },
        "id": "vW7EzA__b3eR",
        "outputId": "674ac87d-de8b-4c18-ee2b-66cbde64447f"
      },
      "execution_count": 18,
      "outputs": [
        {
          "output_type": "stream",
          "name": "stdout",
          "text": [
            "Tool use failed: no tool can be called with name open_weather_map|"
          ]
        }
      ]
    },
    {
      "cell_type": "code",
      "source": [
        "from langgraph.checkpoint.memory import MemorySaver\n",
        "\n",
        "memory = MemorySaver()"
      ],
      "metadata": {
        "id": "mwS7_NwyzA8G"
      },
      "execution_count": 19,
      "outputs": []
    },
    {
      "cell_type": "code",
      "source": [
        "agent_executor = create_react_agent(model, tools, checkpointer=memory)\n",
        "\n",
        "config = {\"configurable\": {\"thread_id\": \"abc123\"}}"
      ],
      "metadata": {
        "id": "MjIpSXq9zEsF"
      },
      "execution_count": 20,
      "outputs": []
    },
    {
      "cell_type": "code",
      "source": [
        "for chunk in agent_executor.stream(\n",
        "    {\"messages\": [HumanMessage(content=\"hi im bob!\")]}, config\n",
        "):\n",
        "    print(chunk)\n",
        "    print(\"----\")"
      ],
      "metadata": {
        "colab": {
          "base_uri": "https://localhost:8080/"
        },
        "id": "vauQGQOmzGNU",
        "outputId": "b1c2464b-f72d-4acd-a97f-19ed94662f9b"
      },
      "execution_count": 21,
      "outputs": [
        {
          "output_type": "stream",
          "name": "stdout",
          "text": [
            "{'agent': {'messages': [AIMessage(content=\"Hey Bob! How's it going?\", additional_kwargs={}, response_metadata={'token_usage': {'completion_tokens': 9, 'prompt_tokens': 1905, 'total_tokens': 1914, 'completion_time': 0.008306031, 'prompt_time': 0.098999949, 'queue_time': -0.18303395900000002, 'total_time': 0.10730598}, 'model_name': 'llama3-8b-8192', 'system_fingerprint': 'fp_179b0f92c9', 'finish_reason': 'stop', 'logprobs': None}, id='run-e3244e34-5c79-4751-b405-d6340708da3d-0', usage_metadata={'input_tokens': 1905, 'output_tokens': 9, 'total_tokens': 1914})]}}\n",
            "----\n"
          ]
        }
      ]
    },
    {
      "cell_type": "code",
      "source": [
        "for chunk in agent_executor.stream(\n",
        "    {\"messages\": [HumanMessage(content=\"whats my name?\")]}, config\n",
        "):\n",
        "    print(chunk)\n",
        "    print(\"----\")"
      ],
      "metadata": {
        "colab": {
          "base_uri": "https://localhost:8080/"
        },
        "id": "fkM8sdYizSts",
        "outputId": "88e26855-683b-4a1d-ede2-1719708e9ace"
      },
      "execution_count": 22,
      "outputs": [
        {
          "output_type": "stream",
          "name": "stdout",
          "text": [
            "{'agent': {'messages': [AIMessage(content='Your name is Bob!', additional_kwargs={}, response_metadata={'token_usage': {'completion_tokens': 6, 'prompt_tokens': 966, 'total_tokens': 972, 'completion_time': 0.005, 'prompt_time': 0.044415539, 'queue_time': 0.0018194810000000047, 'total_time': 0.049415539}, 'model_name': 'llama3-8b-8192', 'system_fingerprint': 'fp_179b0f92c9', 'finish_reason': 'stop', 'logprobs': None}, id='run-7056dbfb-2302-4aca-abba-dcc1630abda5-0', usage_metadata={'input_tokens': 966, 'output_tokens': 6, 'total_tokens': 972})]}}\n",
            "----\n"
          ]
        }
      ]
    },
    {
      "cell_type": "markdown",
      "source": [
        "starting new chat by just replacing new thread_id"
      ],
      "metadata": {
        "id": "TV7zChWb13II"
      }
    },
    {
      "cell_type": "code",
      "source": [
        "config = {\"configurable\": {\"thread_id\": \"xyz123\"}}\n",
        "for chunk in agent_executor.stream(\n",
        "    {\"messages\": [HumanMessage(content=\"whats my name?\")]}, config\n",
        "):\n",
        "    print(chunk)\n",
        "    print(\"----\")"
      ],
      "metadata": {
        "colab": {
          "base_uri": "https://localhost:8080/"
        },
        "id": "Aes8jC33128i",
        "outputId": "03ffe3b2-f8b2-41c1-e772-b9fcc7fce202"
      },
      "execution_count": 23,
      "outputs": [
        {
          "output_type": "stream",
          "name": "stdout",
          "text": [
            "{'agent': {'messages': [AIMessage(content='', additional_kwargs={'tool_calls': [{'id': 'call_3c4q', 'function': {'arguments': '{\"query\":\"what is my name\"}', 'name': 'tavily_search_results_json'}, 'type': 'function'}]}, response_metadata={'token_usage': {'completion_tokens': 73, 'prompt_tokens': 944, 'total_tokens': 1017, 'completion_time': 0.060833333, 'prompt_time': 0.109469267, 'queue_time': -0.183685931, 'total_time': 0.1703026}, 'model_name': 'llama3-8b-8192', 'system_fingerprint': 'fp_a97cfe35ae', 'finish_reason': 'tool_calls', 'logprobs': None}, id='run-e73c9b55-ac9b-470a-94bd-c2bb9513ca69-0', tool_calls=[{'name': 'tavily_search_results_json', 'args': {'query': 'what is my name'}, 'id': 'call_3c4q', 'type': 'tool_call'}], usage_metadata={'input_tokens': 944, 'output_tokens': 73, 'total_tokens': 1017})]}}\n",
            "----\n",
            "{'tools': {'messages': [ToolMessage(content='[{\"url\": \"https://quizondo.com/what-is-my-name-quiz/\", \"content\": \"Miscellaneous\\\\nIf the question “What Is My Name?” has been persistently popping up in your mind, then our quiz is just the tool to help you find the truth.\\\\n So, abstractly you can list the letters of your name and match them with a name chart to get a glimpse of the person you are. QUIZ – Get Rid of The Dilemma\\\\nAm I Asexual Quiz: Everything You Need To Know\\\\nAm I A “Pick Me Girl”? How Are Names Important?\\\\nTable of Contents\\\\nEach of your first, middle, and last name is important. It offers a fun and insightful way to uncover the name that should have been inscribed on your birth certificate, a name that truly matches your personality.\\\\n\"}, {\"url\": \"https://www.names.org/\", \"content\": \"Enter your name to discover its meaning, origin, popularity, and more. Explore names by gender, region, origin, list, and theme.\"}]', name='tavily_search_results_json', id='a21d7184-9d9e-498e-a1ad-dc49bfaf64f3', tool_call_id='call_3c4q', artifact={'query': 'what is my name', 'follow_up_questions': None, 'answer': None, 'images': [], 'results': [{'title': 'What Is My Name? QUIZ - What Should Your Name Be? - Quizondo', 'url': 'https://quizondo.com/what-is-my-name-quiz/', 'content': 'Miscellaneous\\nIf the question “What Is My Name?” has been persistently popping up in your mind, then our quiz is just the tool to help you find the truth.\\n So, abstractly you can list the letters of your name and match them with a name chart to get a glimpse of the person you are. QUIZ – Get Rid of The Dilemma\\nAm I Asexual Quiz: Everything You Need To Know\\nAm I A “Pick Me Girl”? How Are Names Important?\\nTable of Contents\\nEach of your first, middle, and last name is important. It offers a fun and insightful way to uncover the name that should have been inscribed on your birth certificate, a name that truly matches your personality.\\n', 'score': 0.68605465, 'raw_content': None}, {'title': 'What Does My Name Mean? The Meaning Of Names', 'url': 'https://www.names.org/', 'content': 'Enter your name to discover its meaning, origin, popularity, and more. Explore names by gender, region, origin, list, and theme.', 'score': 0.31017178, 'raw_content': None}], 'response_time': 3.38})]}}\n",
            "----\n",
            "{'agent': {'messages': [AIMessage(content='Based on the output of the tool, it seems that the tool did not provide a direct answer to your question. Instead, it provided a list of URLs and content related to finding your name.\\n\\nSince the tool did not provide a direct answer, I will respond directly to your question. Unfortunately, I don\\'t have any information about your name. Can you please provide more context or clarify what you mean by \"what is my name\"?', additional_kwargs={}, response_metadata={'token_usage': {'completion_tokens': 88, 'prompt_tokens': 1234, 'total_tokens': 1322, 'completion_time': 0.073333333, 'prompt_time': 0.139755898, 'queue_time': -0.031672150999999996, 'total_time': 0.213089231}, 'model_name': 'llama3-8b-8192', 'system_fingerprint': 'fp_af05557ca2', 'finish_reason': 'stop', 'logprobs': None}, id='run-59a4dfe6-b8db-4f92-81be-53766c4db916-0', usage_metadata={'input_tokens': 1234, 'output_tokens': 88, 'total_tokens': 1322})]}}\n",
            "----\n"
          ]
        }
      ]
    }
  ]
}